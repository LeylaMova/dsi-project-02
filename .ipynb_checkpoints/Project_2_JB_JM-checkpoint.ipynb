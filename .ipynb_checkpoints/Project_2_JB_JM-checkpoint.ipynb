{
 "cells": [
  {
   "cell_type": "markdown",
   "metadata": {},
   "source": [
    "# Project 2:  Lucid Titanic Sleuthing"
   ]
  },
  {
   "cell_type": "markdown",
   "metadata": {},
   "source": [
    "## Part 1: Developing an understanding of the data"
   ]
  },
  {
   "cell_type": "markdown",
   "metadata": {},
   "source": [
    "#### Based on the description of the data you read in the readme describe in your own words this data."
   ]
  },
  {
   "cell_type": "markdown",
   "metadata": {
    "collapsed": true
   },
   "source": [
    "Titanic DataFrame: \n",
    "info on 1309 Passengers Only\n",
    "info entails: \n",
    "'pclass':        Passenger Class socioeconomic 1~upper 2~middle 3~lower\n",
    "'survived':      Survival 1=YES 0=NO\n",
    "'name':          name of passenger\n",
    "'sex':           Female or Male\n",
    "'age':           Age in years, fractional if less than 1\n",
    "                 If the age is estimated, it is in the form xx.5\n",
    "'sibsp':         Number of siblings and spouses on board\n",
    "'parch':         Number of parents and children on board\n",
    "'ticket':        Nicket Number\n",
    "'fare':          Ticket Fare\n",
    "'cabin':         Cabin Bumber\n",
    "'embarked':      Port Passenger Embarked (C = Cherbourg; Q = Queenstown; S = Southampton) \n",
    "'boat':          Lifeboat Identification\n",
    "'body':          Body Identificaiton Number \n",
    "'home.dest':     Destination\n",
    "\n",
    "\n",
    "Lusitania DataFrame:\n",
    "info on 1961 Passengers and Crews\n",
    "info entails: \n",
    "'Family name':                           Last Name\n",
    "'Title':                                 Title\n",
    "'Personal name':                         First Name\n",
    "'Fate':                                  Survaival Lost or Saved\n",
    "'Age':                                   Age in years Children under 2 in                                          -months and Infants\n",
    "'Department/Class':                      Crew Department Passenger Class \n",
    "Band Deck Engineering Victualling Stowaway  \n",
    "Saloon=1st Class Second Class Third Class     \n",
    "\n",
    "'Passenger/Crew':                        Passenger or Crew\n",
    "'Citizenship':                           Citizen Country\n",
    "'Position':                              Position of Crew Member            \n",
    "'Status':                                Marital Status\n",
    "'City':                                  City of origin\n",
    "'County':                                County of origin\n",
    "'State':                                 State of origin\n",
    "'Country':                               Country of origin\n",
    "'Lifeboat':                              Lifeboat\n",
    "'Rescue Vessel':                         Rescue Vessel\n",
    "'Body No.':                              Body Identification Number\n",
    "'Ticket No.':                            Ticket Identification Number\n",
    "'Cabin No.':                             Cabin Number\n",
    "'Traveling Companions and other notes':  Traveling Companions\n",
    "'Value':                                 Corrosponds to Fate 0=NO 1=YES\n",
    "'Adult/Minor':                           Age < 18 Minor => 18 Adult\n",
    "'Sex':                                   Male/Female\n"
   ]
  },
  {
   "cell_type": "markdown",
   "metadata": {},
   "source": [
    "#### Based on our conceptual understanding of the columns in this data set.  What are the reasonable range of the values for the Sex, Age, SibSp, Parch columns."
   ]
  },
  {
   "cell_type": "markdown",
   "metadata": {
    "collapsed": true
   },
   "source": [
    "Sex = Male/Female \n",
    "Age = 0 to 100 \n",
    "SibSp = 0 to 10\n",
    "ParCh = 0 to 10"
   ]
  },
  {
   "cell_type": "markdown",
   "metadata": {},
   "source": [
    "### Open the data in sublime text is there anything that jumps out to you?"
   ]
  },
  {
   "cell_type": "markdown",
   "metadata": {
    "collapsed": true
   },
   "source": [
    "Lusitania has much more information than Titanic. Lusitania looks more like raw data."
   ]
  },
  {
   "cell_type": "markdown",
   "metadata": {},
   "source": [
    "## Part 2: reading the data in"
   ]
  },
  {
   "cell_type": "markdown",
   "metadata": {},
   "source": [
    "#### Now read the data into a Pandas DataFrame"
   ]
  },
  {
   "cell_type": "code",
   "execution_count": 1,
   "metadata": {
    "collapsed": false
   },
   "outputs": [],
   "source": [
    "import pandas as pd\n",
    "import numpy as np\n",
    "\n",
    "titanic = pd.read_csv('./assets/titanic.csv')\n",
    "lusit = pd.read_csv('./assets/lusitania.csv')"
   ]
  },
  {
   "cell_type": "markdown",
   "metadata": {},
   "source": [
    "#### Check that the age column doesn't have any unreasonable values "
   ]
  },
  {
   "cell_type": "code",
   "execution_count": 2,
   "metadata": {
    "collapsed": false
   },
   "outputs": [
    {
     "data": {
      "text/plain": [
       "array([ 29.  ,   0.92,   2.  ,  30.  ,  25.  ,  48.  ,  63.  ,  39.  ,\n",
       "        53.  ,  71.  ,  47.  ,  18.  ,  24.  ,  26.  ,  80.  ,    nan,\n",
       "        50.  ,  32.  ,  36.  ,  37.  ,  42.  ,  19.  ,  35.  ,  28.  ,\n",
       "        45.  ,  40.  ,  58.  ,  22.  ,  41.  ,  44.  ,  59.  ,  60.  ,\n",
       "        33.  ,  17.  ,  11.  ,  14.  ,  49.  ,  76.  ,  46.  ,  27.  ,\n",
       "        64.  ,  55.  ,  70.  ,  38.  ,  51.  ,  31.  ,   4.  ,  54.  ,\n",
       "        23.  ,  43.  ,  52.  ,  16.  ,  32.5 ,  21.  ,  15.  ,  65.  ,\n",
       "        28.5 ,  45.5 ,  56.  ,  13.  ,  61.  ,  34.  ,   6.  ,  57.  ,\n",
       "        62.  ,  67.  ,   1.  ,  12.  ,  20.  ,   0.83,   8.  ,   0.67,\n",
       "         7.  ,   3.  ,  36.5 ,  18.5 ,   5.  ,  66.  ,   9.  ,   0.75,\n",
       "        70.5 ,  22.5 ,   0.33,   0.17,  40.5 ,  10.  ,  23.5 ,  34.5 ,\n",
       "        20.5 ,  30.5 ,  55.5 ,  38.5 ,  14.5 ,  24.5 ,  60.5 ,  74.  ,\n",
       "         0.42,  11.5 ,  26.5 ])"
      ]
     },
     "execution_count": 2,
     "metadata": {},
     "output_type": "execute_result"
    }
   ],
   "source": [
    "titanic['age'].unique()"
   ]
  },
  {
   "cell_type": "code",
   "execution_count": 3,
   "metadata": {
    "collapsed": false
   },
   "outputs": [
    {
     "data": {
      "text/plain": [
       "array(['38', '37', '30', '25', '27', '48', nan, '24', '19 ?', '57', '50',\n",
       "       '56', '41', '19', '33', '29', '18', '20', '21', '26', '17', '58',\n",
       "       '47', '54', '35', '43', '59', '53', '44', '51', '40', '49', '42',\n",
       "       '32', '31', '34', '22', '45', '36', '29 ?', '52', '23', '60', '28',\n",
       "       '16', '46', '15', '39', '63 ?', '55', '64', '53 ?', '09-months',\n",
       "       '6', '9', '14', '10', '12', '?', '62', '5', '8', '65', '68', '76',\n",
       "       '61', '63', '03-months', '1.5', '2.5', '18-months', '3', '2',\n",
       "       '25 ?', '08-months', '4', '15-months', '14-months', 'Infant',\n",
       "       '3-6-months ?', '51 or 47', '45 or 51', '22 (?)', '17-months',\n",
       "       '13-months', '02-months', '49 ?', '05-months', '11', '59 (64?)',\n",
       "       '63 (51?)', '37 (39?)', '32 (22?)', '31 (32?)', '24 (23?)', '27?',\n",
       "       '7', '42?', '31 ?', '10-months', '38 (?)', '70', '62 (?)',\n",
       "       '06-months', '13', '2_', '11-months', '30 ?', '34?', '1',\n",
       "       '39 (47?)', '67', '73', '72', '11-months (3?)', '4.25', '69', '26?',\n",
       "       '54?', '21?', '16 ?'], dtype=object)"
      ]
     },
     "execution_count": 3,
     "metadata": {},
     "output_type": "execute_result"
    }
   ],
   "source": [
    "lusit['Age'].unique()"
   ]
  },
  {
   "cell_type": "code",
   "execution_count": 4,
   "metadata": {
    "collapsed": false
   },
   "outputs": [
    {
     "data": {
      "text/plain": [
       "array(['38', '37', '30', '25', '27', '48', nan, '24', '19', '57', '50',\n",
       "       '56', '41', '33', '29', '18', '20', '21', '26', '17', '58', '47',\n",
       "       '54', '35', '43', '59', '53', '44', '51', '40', '49', '42', '32',\n",
       "       '31', '34', '22', '45', '36', '52', '23', '60', '28', '16', '46',\n",
       "       '15', '39', '63', '55', '64', '09-months', '6', '9', '14', '10',\n",
       "       '12', '?', '62', '5', '8', '65', '68', '76', '61', '03-months',\n",
       "       '1.5', '2.5', '18-months', '3', '2', '08-months', '4', '15-months',\n",
       "       '14-months', 'Infant', '3-6-months', '51 or 47', '45 or 51',\n",
       "       '22 (?)', '17-months', '13-months', '02-months', '05-months', '11',\n",
       "       '59 (64?)', '63 (51?)', '37 (39?)', '32 (22?)', '31 (32?)',\n",
       "       '24 (23?)', '27?', '7', '42?', '10-months', '38 (?)', '70',\n",
       "       '62 (?)', '06-months', '13', '2_', '11-months', '34?', '1',\n",
       "       '39 (47?)', '67', '73', '72', '11-months (3?)', '4.25', '69', '26?',\n",
       "       '54?', '21?'], dtype=object)"
      ]
     },
     "execution_count": 4,
     "metadata": {},
     "output_type": "execute_result"
    }
   ],
   "source": [
    "lusit['Clean_Age'] = lusit['Age'].dropna()\n",
    "lusit['Clean_Age'] = lusit['Clean_Age'].str.replace(' \\?','')\n",
    "lusit['Clean_Age'].unique()"
   ]
  },
  {
   "cell_type": "code",
   "execution_count": 5,
   "metadata": {
    "collapsed": false
   },
   "outputs": [
    {
     "data": {
      "text/plain": [
       "array(['38', '37', '30', '25', '27', '48', nan, '24', '19', '57', '50',\n",
       "       '56', '41', '33', '29', '18', '20', '21', '26', '17', '58', '47',\n",
       "       '54', '35', '43', '59', '53', '44', '51', '40', '49', '42', '32',\n",
       "       '31', '34', '22', '45', '36', '52', '23', '60', '28', '16', '46',\n",
       "       '15', '39', '63', '55', '64', '09-months', '6', '9', '14', '10',\n",
       "       '12', '0', '62', '5', '8', '65', '68', '76', '61', '03-months',\n",
       "       '1.5', '2.5', '18-months', '3', '2', '08-months', '4', '15-months',\n",
       "       '14-months', 'Infant', '3-6-months', '17-months', '13-months',\n",
       "       '02-months', '05-months', '11', '270', '7', '420', '10-months',\n",
       "       '70', '06-months', '13', '11-months', '340', '1', '67', '73', '72',\n",
       "       '4.25', '69', '260', '540', '210'], dtype=object)"
      ]
     },
     "execution_count": 5,
     "metadata": {},
     "output_type": "execute_result"
    }
   ],
   "source": [
    "lusit['Clean_Age'] = lusit['Clean_Age'].str.replace(' \\(...\\)?','')\n",
    "lusit['Clean_Age'] = lusit['Clean_Age'].str.replace(' \\(.\\)?','')\n",
    "lusit['Clean_Age'] = lusit['Clean_Age'].str.replace(' .. ..','')\n",
    "#since we don't have any 0s in our data, replace ? with 0 below\n",
    "lusit['Clean_Age'] = lusit['Clean_Age'].str.replace('\\?','0')\n",
    "lusit['Clean_Age'] = lusit['Clean_Age'].str.replace('\\_','')\n",
    "lusit['Clean_Age'].unique()"
   ]
  },
  {
   "cell_type": "code",
   "execution_count": 6,
   "metadata": {
    "collapsed": false
   },
   "outputs": [
    {
     "data": {
      "text/plain": [
       "array(['38', '37', '30', '25', '27', '48', nan, '24', '19', '57', '50',\n",
       "       '56', '41', '33', '29', '18', '20', '21', '26', '17', '58', '47',\n",
       "       '54', '35', '43', '59', '53', '44', '51', '40', '49', '42', '32',\n",
       "       '31', '34', '22', '45', '36', '52', '23', '60', '28', '16', '46',\n",
       "       '15', '39', '63', '55', '64', '1', '6', '9', '14', '10', '12', '0',\n",
       "       '62', '5', '8', '65', '68', '76', '61', '1.5', '2.5', '3', '2', '4',\n",
       "       '.1', '11', '270', '7', '420', '70', '13', '340', '67', '73', '72',\n",
       "       '4.25', '69', '260', '540', '210'], dtype=object)"
      ]
     },
     "execution_count": 6,
     "metadata": {},
     "output_type": "execute_result"
    }
   ],
   "source": [
    "#any age with months changed to 1\n",
    "lusit['Clean_Age'] = lusit['Clean_Age'].str.replace('..-months','1')\n",
    "lusit['Clean_Age'] = lusit['Clean_Age'].str.replace('Infant','.1')\n",
    "lusit['Clean_Age'].unique()"
   ]
  },
  {
   "cell_type": "code",
   "execution_count": 7,
   "metadata": {
    "collapsed": true
   },
   "outputs": [],
   "source": [
    "lusit['Clean_Age'] = lusit['Clean_Age'].astype(float)"
   ]
  },
  {
   "cell_type": "code",
   "execution_count": 8,
   "metadata": {
    "collapsed": false
   },
   "outputs": [
    {
     "name": "stderr",
     "output_type": "stream",
     "text": [
      "/Users/Leyla/anaconda/lib/python2.7/site-packages/numpy/lib/function_base.py:3834: RuntimeWarning: Invalid value encountered in percentile\n",
      "  RuntimeWarning)\n"
     ]
    },
    {
     "data": {
      "text/plain": [
       "count    1308.000000\n",
       "mean       33.683524\n",
       "std        26.386535\n",
       "min         0.000000\n",
       "25%              NaN\n",
       "50%              NaN\n",
       "75%              NaN\n",
       "max       540.000000\n",
       "Name: Clean_Age, dtype: float64"
      ]
     },
     "execution_count": 8,
     "metadata": {},
     "output_type": "execute_result"
    }
   ],
   "source": [
    "lusit['Clean_Age'].describe()"
   ]
  },
  {
   "cell_type": "code",
   "execution_count": 9,
   "metadata": {
    "collapsed": false
   },
   "outputs": [
    {
     "data": {
      "text/plain": [
       "count    1046.000000\n",
       "mean       29.881138\n",
       "std        14.413493\n",
       "min         0.170000\n",
       "25%              NaN\n",
       "50%              NaN\n",
       "75%              NaN\n",
       "max        80.000000\n",
       "Name: age, dtype: float64"
      ]
     },
     "execution_count": 9,
     "metadata": {},
     "output_type": "execute_result"
    }
   ],
   "source": [
    "titanic['age'].describe()"
   ]
  },
  {
   "cell_type": "markdown",
   "metadata": {},
   "source": [
    "#### Check for missing values.  How do you know that a value is missing?"
   ]
  },
  {
   "cell_type": "code",
   "execution_count": 10,
   "metadata": {
    "collapsed": false
   },
   "outputs": [
    {
     "name": "stdout",
     "output_type": "stream",
     "text": [
      "{'pclass': 0}\n",
      "{'survived': 0}\n",
      "{'name': 0}\n",
      "{'sex': 0}\n",
      "{'age': 263}\n",
      "{'sibsp': 0}\n",
      "{'parch': 0}\n",
      "{'ticket': 0}\n",
      "{'fare': 1}\n",
      "{'cabin': 1014}\n",
      "{'embarked': 2}\n",
      "{'boat': 823}\n",
      "{'body': 1188}\n",
      "{'home.dest': 564}\n"
     ]
    }
   ],
   "source": [
    "def missing_values(data):\n",
    "    for column in data.columns.values:\n",
    "        is_null = pd.isnull(data[column])\n",
    "        print {column:len(is_null[is_null])}\n",
    "        \n",
    "missing_values(titanic)       "
   ]
  },
  {
   "cell_type": "code",
   "execution_count": 11,
   "metadata": {
    "collapsed": false
   },
   "outputs": [
    {
     "name": "stdout",
     "output_type": "stream",
     "text": [
      "{'Family name': 0}\n",
      "{'Title': 0}\n",
      "{'Personal name': 3}\n",
      "{'Fate': 0}\n",
      "{'Age': 653}\n",
      "{'Department/Class': 0}\n",
      "{'Passenger/Crew': 0}\n",
      "{'Citizenship': 2}\n",
      "{'Position': 1270}\n",
      "{'Status': 1166}\n",
      "{'City': 682}\n",
      "{'County': 1890}\n",
      "{'State': 929}\n",
      "{'Country': 638}\n",
      "{'Lifeboat': 1829}\n",
      "{'Rescue Vessel': 1810}\n",
      "{'Body No.': 1750}\n",
      "{'Ticket No.': 1677}\n",
      "{'Cabin No.': 1632}\n",
      "{'Traveling Companions and other notes': 1363}\n",
      "{'Value': 0}\n",
      "{'Adult/Minor': 0}\n",
      "{'Sex': 0}\n",
      "{'Clean_Age': 653}\n"
     ]
    }
   ],
   "source": [
    "missing_values(lusit) "
   ]
  },
  {
   "cell_type": "markdown",
   "metadata": {},
   "source": [
    "#### Does it makes sense to guess at the value?"
   ]
  },
  {
   "cell_type": "markdown",
   "metadata": {},
   "source": [
    "Yes. Too much of our data will be lost if we drop all the people without age."
   ]
  },
  {
   "cell_type": "markdown",
   "metadata": {},
   "source": [
    "## Part 3: data imputation"
   ]
  },
  {
   "cell_type": "markdown",
   "metadata": {},
   "source": [
    "#### Well let’s say that it does... You likely noticed that Age has some missing values. How many are missing?"
   ]
  },
  {
   "cell_type": "markdown",
   "metadata": {},
   "source": [
    "titanic has 263 missing values lusitania has 653 missing values"
   ]
  },
  {
   "cell_type": "markdown",
   "metadata": {},
   "source": [
    "#### For the Age of the passangers ... how would you guess at the missing values using the other data present in the CSV."
   ]
  },
  {
   "cell_type": "markdown",
   "metadata": {},
   "source": [
    "I thought to utilize titles to guess the missing age values. Titanic doesn't have title column like lusitania and in order to create one it has to be extracted from the name. Once created we can make a better guess on missing values by grouping the ages. Mr. range from 20s - 30s Sir. 40s - 70s and so on."
   ]
  },
  {
   "cell_type": "code",
   "execution_count": 12,
   "metadata": {
    "collapsed": false
   },
   "outputs": [],
   "source": [
    "titanic['adult/minor'] = titanic.age.apply(lambda x: 'minor' if x < 18 else 'adult')"
   ]
  },
  {
   "cell_type": "code",
   "execution_count": 13,
   "metadata": {
    "collapsed": false
   },
   "outputs": [
    {
     "data": {
      "text/plain": [
       "adult/minor\n",
       "adult    33.468610\n",
       "minor     9.101753\n",
       "Name: age, dtype: float64"
      ]
     },
     "execution_count": 13,
     "metadata": {},
     "output_type": "execute_result"
    }
   ],
   "source": [
    "titanic.pivot_table(index='adult/minor', values='age', aggfunc='mean', dropna=True)"
   ]
  },
  {
   "cell_type": "code",
   "execution_count": 14,
   "metadata": {
    "collapsed": false
   },
   "outputs": [
    {
     "data": {
      "text/plain": [
       "array(['Miss.', 'Master.', 'Mr.', 'Mrs.', 'Col.', 'Mme.', 'Dr.', 'Major.',\n",
       "       'Capt.', 'Lady.', 'Sir.', 'Mlle.', 'Dona.', 'Jonkheer.',\n",
       "       'the Countess.', 'Mrs. Martin (Elizabeth L.', 'Don.', 'Rev.', 'Ms.'], dtype=object)"
      ]
     },
     "execution_count": 14,
     "metadata": {},
     "output_type": "execute_result"
    }
   ],
   "source": [
    "titanic['title'] = titanic.name.str.extract(',[\\s](\\D+\\.)', expand=True)\n",
    "\n",
    "titanic.title.unique()"
   ]
  },
  {
   "cell_type": "code",
   "execution_count": 15,
   "metadata": {
    "collapsed": false
   },
   "outputs": [],
   "source": [
    "titanic['title'] = titanic['title'].str.replace('Mrs\\. Martin \\(Elizabeth L\\.', 'Mrs.')\n",
    "titanic['title'] = titanic['title'].str.replace('Mlle\\.', 'Miss.')\n",
    "titanic['title'] = titanic['title'].str.replace('Mme\\.', 'Miss.')\n",
    "titanic['title'] = titanic['title'].str.replace('Jonkheer\\.', 'Mr.')\n",
    "titanic['title'] = titanic['title'].str.replace('Don\\.', 'Sir.')\n",
    "titanic['title'] = titanic['title'].str.replace('Dr\\.', 'Sir.')\n",
    "titanic['title'] = titanic['title'].str.replace('Dona\\.', 'Mrs.')\n",
    "titanic['title'] = titanic['title'].str.replace('Major\\.', 'Sir.')\n",
    "titanic['title'] = titanic['title'].str.replace('Rev\\.', 'Sir.')\n",
    "titanic['title'] = titanic['title'].str.replace('Capt\\.', 'Sir.')\n",
    "titanic['title'] = titanic['title'].str.replace('Col\\.', 'Sir.')\n",
    "titanic['title'] = titanic['title'].str.replace('the Countess\\.', 'Mrs.')"
   ]
  },
  {
   "cell_type": "code",
   "execution_count": 16,
   "metadata": {
    "collapsed": false
   },
   "outputs": [
    {
     "data": {
      "text/html": [
       "<div>\n",
       "<table border=\"1\" class=\"dataframe\">\n",
       "  <thead>\n",
       "    <tr style=\"text-align: right;\">\n",
       "      <th></th>\n",
       "      <th>age</th>\n",
       "    </tr>\n",
       "    <tr>\n",
       "      <th>title</th>\n",
       "      <th></th>\n",
       "    </tr>\n",
       "  </thead>\n",
       "  <tbody>\n",
       "    <tr>\n",
       "      <th>Lady.</th>\n",
       "      <td>48.000000</td>\n",
       "    </tr>\n",
       "    <tr>\n",
       "      <th>Master.</th>\n",
       "      <td>5.482642</td>\n",
       "    </tr>\n",
       "    <tr>\n",
       "      <th>Miss.</th>\n",
       "      <td>21.805587</td>\n",
       "    </tr>\n",
       "    <tr>\n",
       "      <th>Mr.</th>\n",
       "      <td>32.262027</td>\n",
       "    </tr>\n",
       "    <tr>\n",
       "      <th>Mrs.</th>\n",
       "      <td>36.982558</td>\n",
       "    </tr>\n",
       "    <tr>\n",
       "      <th>Ms.</th>\n",
       "      <td>28.000000</td>\n",
       "    </tr>\n",
       "    <tr>\n",
       "      <th>Sir.</th>\n",
       "      <td>46.125000</td>\n",
       "    </tr>\n",
       "  </tbody>\n",
       "</table>\n",
       "</div>"
      ],
      "text/plain": [
       "               age\n",
       "title             \n",
       "Lady.    48.000000\n",
       "Master.   5.482642\n",
       "Miss.    21.805587\n",
       "Mr.      32.262027\n",
       "Mrs.     36.982558\n",
       "Ms.      28.000000\n",
       "Sir.     46.125000"
      ]
     },
     "execution_count": 16,
     "metadata": {},
     "output_type": "execute_result"
    }
   ],
   "source": [
    "titanic.pivot_table(index=['title'], values=['age'], aggfunc='mean', dropna=True)"
   ]
  },
  {
   "cell_type": "code",
   "execution_count": 17,
   "metadata": {
    "collapsed": false
   },
   "outputs": [
    {
     "data": {
      "text/plain": [
       "title\n",
       "Master.      8\n",
       "Miss.       50\n",
       "Mr.        176\n",
       "Mrs.        27\n",
       "Ms.          1\n",
       "Sir.         1\n",
       "Name: title, dtype: int64"
      ]
     },
     "execution_count": 17,
     "metadata": {},
     "output_type": "execute_result"
    }
   ],
   "source": [
    "mask = titanic[titanic['age'].isnull()]\n",
    "\n",
    "mask.groupby(['title'])['title'].count()"
   ]
  },
  {
   "cell_type": "code",
   "execution_count": 18,
   "metadata": {
    "collapsed": true
   },
   "outputs": [],
   "source": [
    "titanic.loc[mask[mask['title'] == 'Master.']['age'].index.tolist(),'age'] = 5"
   ]
  },
  {
   "cell_type": "code",
   "execution_count": 19,
   "metadata": {
    "collapsed": true
   },
   "outputs": [],
   "source": [
    "titanic.loc[mask[mask['title'] == 'Miss.']['age'].index.tolist(),'age'] = 21"
   ]
  },
  {
   "cell_type": "code",
   "execution_count": 20,
   "metadata": {
    "collapsed": true
   },
   "outputs": [],
   "source": [
    "titanic.loc[mask[mask['title'] == 'Mr.']['age'].index.tolist(),'age'] = 32"
   ]
  },
  {
   "cell_type": "code",
   "execution_count": 21,
   "metadata": {
    "collapsed": true
   },
   "outputs": [],
   "source": [
    "titanic.loc[mask[mask['title'] == 'Mrs.']['age'].index.tolist(),'age'] = 36"
   ]
  },
  {
   "cell_type": "code",
   "execution_count": 22,
   "metadata": {
    "collapsed": true
   },
   "outputs": [],
   "source": [
    "titanic.loc[mask[mask['title'] == 'Ms.']['age'].index.tolist(),'age'] = 28"
   ]
  },
  {
   "cell_type": "code",
   "execution_count": 23,
   "metadata": {
    "collapsed": true
   },
   "outputs": [],
   "source": [
    "titanic.loc[mask[mask['title'] == 'Sir.']['age'].index.tolist(),'age'] = 46"
   ]
  },
  {
   "cell_type": "code",
   "execution_count": 24,
   "metadata": {
    "collapsed": true
   },
   "outputs": [],
   "source": [
    "#LUSITANIA"
   ]
  },
  {
   "cell_type": "code",
   "execution_count": 25,
   "metadata": {
    "collapsed": false
   },
   "outputs": [
    {
     "data": {
      "text/plain": [
       "array(['Mr.', 'Dr.', 'Master', 'Captain', 'Mrs.', 'Lady', 'Miss',\n",
       "       'Reverend', 'Professor', 'Sir', 'Lieutenant', 'Father',\n",
       "       'Mr. (later Sir)', 'Surgeon-Major', 'Detective-Inspector',\n",
       "       'Commander', 'Sister', 'Mr. ', 'Master (?)'], dtype=object)"
      ]
     },
     "execution_count": 25,
     "metadata": {},
     "output_type": "execute_result"
    }
   ],
   "source": [
    "lusit['Title'].unique()"
   ]
  },
  {
   "cell_type": "code",
   "execution_count": 26,
   "metadata": {
    "collapsed": false
   },
   "outputs": [
    {
     "data": {
      "text/plain": [
       "array(['Mr.', 'Master', 'Mrs.', 'Lady', 'Miss', 'Sir'], dtype=object)"
      ]
     },
     "execution_count": 26,
     "metadata": {},
     "output_type": "execute_result"
    }
   ],
   "source": [
    "lusit['Title'] = lusit['Title'].str.replace('Mr\\. \\(later Sir\\)','Sir')\n",
    "lusit['Title'] = lusit['Title'].str.replace('Mr\\. ','Sir')\n",
    "lusit['Title'] = lusit['Title'].str.replace('Dr\\.','Mr.')\n",
    "lusit['Title'] = lusit['Title'].str.replace('Professor','Mr.')\n",
    "lusit['Title'] = lusit['Title'].str.replace('Commander','Sir')\n",
    "lusit['Title'] = lusit['Title'].str.replace('Reverend','Sir')\n",
    "lusit['Title'] = lusit['Title'].str.replace('Surgeon-Major','Sir')\n",
    "lusit['Title'] = lusit['Title'].str.replace('Detective\\-Inspector','Sir')\n",
    "lusit['Title'] = lusit['Title'].str.replace('Lieutenant','Mr.')\n",
    "lusit['Title'] = lusit['Title'].str.replace('Father','Sir')\n",
    "lusit['Title'] = lusit['Title'].str.replace('Captain','Mr.')\n",
    "lusit['Title'] = lusit['Title'].str.replace('Sister','Lady')\n",
    "lusit['Title'] = lusit['Title'].str.replace(' \\(.\\)','')\n",
    "lusit['Title'].unique()"
   ]
  },
  {
   "cell_type": "code",
   "execution_count": 27,
   "metadata": {
    "collapsed": false,
    "scrolled": true
   },
   "outputs": [
    {
     "data": {
      "text/html": [
       "<div>\n",
       "<table border=\"1\" class=\"dataframe\">\n",
       "  <thead>\n",
       "    <tr style=\"text-align: right;\">\n",
       "      <th></th>\n",
       "      <th>Clean_Age</th>\n",
       "    </tr>\n",
       "    <tr>\n",
       "      <th>Title</th>\n",
       "      <th></th>\n",
       "    </tr>\n",
       "  </thead>\n",
       "  <tbody>\n",
       "    <tr>\n",
       "      <th>Lady</th>\n",
       "      <td>44.333333</td>\n",
       "    </tr>\n",
       "    <tr>\n",
       "      <th>Master</th>\n",
       "      <td>6.180526</td>\n",
       "    </tr>\n",
       "    <tr>\n",
       "      <th>Miss</th>\n",
       "      <td>24.170352</td>\n",
       "    </tr>\n",
       "    <tr>\n",
       "      <th>Mr.</th>\n",
       "      <td>36.664748</td>\n",
       "    </tr>\n",
       "    <tr>\n",
       "      <th>Mrs.</th>\n",
       "      <td>39.193277</td>\n",
       "    </tr>\n",
       "    <tr>\n",
       "      <th>Sir</th>\n",
       "      <td>47.666667</td>\n",
       "    </tr>\n",
       "  </tbody>\n",
       "</table>\n",
       "</div>"
      ],
      "text/plain": [
       "        Clean_Age\n",
       "Title            \n",
       "Lady    44.333333\n",
       "Master   6.180526\n",
       "Miss    24.170352\n",
       "Mr.     36.664748\n",
       "Mrs.    39.193277\n",
       "Sir     47.666667"
      ]
     },
     "execution_count": 27,
     "metadata": {},
     "output_type": "execute_result"
    }
   ],
   "source": [
    "lusit.pivot_table(index=['Title'], values=['Clean_Age'], aggfunc='mean', dropna=True)"
   ]
  },
  {
   "cell_type": "code",
   "execution_count": 28,
   "metadata": {
    "collapsed": false
   },
   "outputs": [],
   "source": [
    "#I made one age 0 where she is a Miss.\n",
    "lusit.loc[lusit[lusit['Clean_Age']==0].index.tolist(),'Clean_Age'] = 24"
   ]
  },
  {
   "cell_type": "code",
   "execution_count": 29,
   "metadata": {
    "collapsed": false
   },
   "outputs": [
    {
     "data": {
      "text/plain": [
       "Title\n",
       "Master      5\n",
       "Miss       39\n",
       "Mr.       362\n",
       "Mrs.       39\n",
       "Sir       208\n",
       "Name: Title, dtype: int64"
      ]
     },
     "execution_count": 29,
     "metadata": {},
     "output_type": "execute_result"
    }
   ],
   "source": [
    "mask = lusit[lusit['Clean_Age'].isnull()]\n",
    "\n",
    "mask.groupby(['Title'])['Title'].count()"
   ]
  },
  {
   "cell_type": "code",
   "execution_count": 30,
   "metadata": {
    "collapsed": false
   },
   "outputs": [],
   "source": [
    "lusit.loc[mask[mask['Title'] == 'Master']['Clean_Age'].index.tolist(),'Clean_Age'] = 6"
   ]
  },
  {
   "cell_type": "code",
   "execution_count": 31,
   "metadata": {
    "collapsed": false
   },
   "outputs": [],
   "source": [
    "lusit.loc[mask[mask['Title'] == 'Miss']['Clean_Age'].index.tolist(),'Clean_Age'] = 24"
   ]
  },
  {
   "cell_type": "code",
   "execution_count": 32,
   "metadata": {
    "collapsed": false
   },
   "outputs": [],
   "source": [
    "lusit.loc[mask[mask['Title'] == 'Mr.']['Clean_Age'].index.tolist(),'Clean_Age'] = 36"
   ]
  },
  {
   "cell_type": "code",
   "execution_count": 33,
   "metadata": {
    "collapsed": false
   },
   "outputs": [],
   "source": [
    "lusit.loc[mask[mask['Title'] == 'Mrs.']['Clean_Age'].index.tolist(),'Clean_Age'] = 39"
   ]
  },
  {
   "cell_type": "code",
   "execution_count": 34,
   "metadata": {
    "collapsed": true
   },
   "outputs": [],
   "source": [
    "lusit.loc[mask[mask['Title'] == 'Sir']['Clean_Age'].index.tolist(),'Clean_Age'] = 47"
   ]
  },
  {
   "cell_type": "code",
   "execution_count": null,
   "metadata": {
    "collapsed": true
   },
   "outputs": [],
   "source": []
  },
  {
   "cell_type": "markdown",
   "metadata": {},
   "source": [
    "## Part 4: Group Statistics"
   ]
  },
  {
   "cell_type": "markdown",
   "metadata": {
    "collapsed": true
   },
   "source": [
    "#### Are there any groups that were especially adversely affected in the Titanic wreck? (justify your response numerically)"
   ]
  },
  {
   "cell_type": "markdown",
   "metadata": {},
   "source": [
    "2nd class male and 3rd class male with ~ 0.15 survival rate"
   ]
  },
  {
   "cell_type": "code",
   "execution_count": 39,
   "metadata": {
    "collapsed": false
   },
   "outputs": [
    {
     "data": {
      "text/html": [
       "<div>\n",
       "<table border=\"1\" class=\"dataframe\">\n",
       "  <thead>\n",
       "    <tr style=\"text-align: right;\">\n",
       "      <th></th>\n",
       "      <th></th>\n",
       "      <th>deceased</th>\n",
       "      <th>survived</th>\n",
       "      <th>all</th>\n",
       "      <th>survival_rate</th>\n",
       "    </tr>\n",
       "    <tr>\n",
       "      <th>pclass</th>\n",
       "      <th>sex</th>\n",
       "      <th></th>\n",
       "      <th></th>\n",
       "      <th></th>\n",
       "      <th></th>\n",
       "    </tr>\n",
       "  </thead>\n",
       "  <tbody>\n",
       "    <tr>\n",
       "      <th rowspan=\"2\" valign=\"top\">1</th>\n",
       "      <th>female</th>\n",
       "      <td>5</td>\n",
       "      <td>139</td>\n",
       "      <td>144</td>\n",
       "      <td>0.965278</td>\n",
       "    </tr>\n",
       "    <tr>\n",
       "      <th>male</th>\n",
       "      <td>118</td>\n",
       "      <td>61</td>\n",
       "      <td>179</td>\n",
       "      <td>0.340782</td>\n",
       "    </tr>\n",
       "    <tr>\n",
       "      <th rowspan=\"2\" valign=\"top\">2</th>\n",
       "      <th>female</th>\n",
       "      <td>12</td>\n",
       "      <td>94</td>\n",
       "      <td>106</td>\n",
       "      <td>0.886792</td>\n",
       "    </tr>\n",
       "    <tr>\n",
       "      <th>male</th>\n",
       "      <td>146</td>\n",
       "      <td>25</td>\n",
       "      <td>171</td>\n",
       "      <td>0.146199</td>\n",
       "    </tr>\n",
       "    <tr>\n",
       "      <th rowspan=\"2\" valign=\"top\">3</th>\n",
       "      <th>female</th>\n",
       "      <td>110</td>\n",
       "      <td>106</td>\n",
       "      <td>216</td>\n",
       "      <td>0.490741</td>\n",
       "    </tr>\n",
       "    <tr>\n",
       "      <th>male</th>\n",
       "      <td>418</td>\n",
       "      <td>75</td>\n",
       "      <td>493</td>\n",
       "      <td>0.152130</td>\n",
       "    </tr>\n",
       "  </tbody>\n",
       "</table>\n",
       "</div>"
      ],
      "text/plain": [
       "               deceased  survived  all  survival_rate\n",
       "pclass sex                                           \n",
       "1      female         5       139  144       0.965278\n",
       "       male         118        61  179       0.340782\n",
       "2      female        12        94  106       0.886792\n",
       "       male         146        25  171       0.146199\n",
       "3      female       110       106  216       0.490741\n",
       "       male         418        75  493       0.152130"
      ]
     },
     "execution_count": 39,
     "metadata": {},
     "output_type": "execute_result"
    }
   ],
   "source": [
    "titanic['deceased'] = titanic['survived'].apply(lambda x: 1 if x == 0 else 0)\n",
    "titanic['all'] = titanic['survived'] + titanic['deceased']\n",
    "titanic['survival_rate'] = titanic['survived']/titanic['all']\n",
    "\n",
    "from collections import OrderedDict\n",
    "titanic.groupby(['pclass','sex']).agg(OrderedDict([('deceased', 'sum'),\n",
    "                                                              ('survived', 'sum'),\n",
    "                                                              ('all', 'sum'),\n",
    "                                                              ('survival_rate', 'mean')]))"
   ]
  },
  {
   "cell_type": "code",
   "execution_count": 44,
   "metadata": {
    "collapsed": false
   },
   "outputs": [
    {
     "data": {
      "text/html": [
       "<div>\n",
       "<table border=\"1\" class=\"dataframe\">\n",
       "  <thead>\n",
       "    <tr style=\"text-align: right;\">\n",
       "      <th>survived</th>\n",
       "      <th>0</th>\n",
       "      <th>1</th>\n",
       "    </tr>\n",
       "    <tr>\n",
       "      <th>sex</th>\n",
       "      <th></th>\n",
       "      <th></th>\n",
       "    </tr>\n",
       "  </thead>\n",
       "  <tbody>\n",
       "    <tr>\n",
       "      <th>female</th>\n",
       "      <td>127</td>\n",
       "      <td>339</td>\n",
       "    </tr>\n",
       "    <tr>\n",
       "      <th>male</th>\n",
       "      <td>682</td>\n",
       "      <td>161</td>\n",
       "    </tr>\n",
       "  </tbody>\n",
       "</table>\n",
       "</div>"
      ],
      "text/plain": [
       "survived    0    1\n",
       "sex               \n",
       "female    127  339\n",
       "male      682  161"
      ]
     },
     "execution_count": 44,
     "metadata": {},
     "output_type": "execute_result"
    }
   ],
   "source": [
    "table = pd.crosstab(titanic['sex'],titanic['survived'])\n",
    "table"
   ]
  },
  {
   "cell_type": "code",
   "execution_count": 45,
   "metadata": {
    "collapsed": false
   },
   "outputs": [
    {
     "data": {
      "text/plain": [
       "4.5899249369529454e-81"
      ]
     },
     "execution_count": 45,
     "metadata": {},
     "output_type": "execute_result"
    }
   ],
   "source": [
    "from scipy.stats import chi2_contingency\n",
    "\n",
    "chi2, pvalue, dof, expected = chi2_contingency(table)\n",
    "pvalue"
   ]
  },
  {
   "cell_type": "code",
   "execution_count": 46,
   "metadata": {
    "collapsed": false
   },
   "outputs": [
    {
     "data": {
      "text/html": [
       "<div>\n",
       "<table border=\"1\" class=\"dataframe\">\n",
       "  <thead>\n",
       "    <tr style=\"text-align: right;\">\n",
       "      <th>survived</th>\n",
       "      <th>0</th>\n",
       "      <th>1</th>\n",
       "    </tr>\n",
       "    <tr>\n",
       "      <th>pclass</th>\n",
       "      <th></th>\n",
       "      <th></th>\n",
       "    </tr>\n",
       "  </thead>\n",
       "  <tbody>\n",
       "    <tr>\n",
       "      <th>1</th>\n",
       "      <td>123</td>\n",
       "      <td>200</td>\n",
       "    </tr>\n",
       "    <tr>\n",
       "      <th>2</th>\n",
       "      <td>158</td>\n",
       "      <td>119</td>\n",
       "    </tr>\n",
       "    <tr>\n",
       "      <th>3</th>\n",
       "      <td>528</td>\n",
       "      <td>181</td>\n",
       "    </tr>\n",
       "  </tbody>\n",
       "</table>\n",
       "</div>"
      ],
      "text/plain": [
       "survived    0    1\n",
       "pclass            \n",
       "1         123  200\n",
       "2         158  119\n",
       "3         528  181"
      ]
     },
     "execution_count": 46,
     "metadata": {},
     "output_type": "execute_result"
    }
   ],
   "source": [
    "table = pd.crosstab(titanic['pclass'],titanic['survived'])\n",
    "table"
   ]
  },
  {
   "cell_type": "code",
   "execution_count": 47,
   "metadata": {
    "collapsed": false
   },
   "outputs": [
    {
     "data": {
      "text/plain": [
       "1.7208259588256175e-28"
      ]
     },
     "execution_count": 47,
     "metadata": {},
     "output_type": "execute_result"
    }
   ],
   "source": [
    "chi2, pvalue, dof, expected = chi2_contingency(table)\n",
    "pvalue"
   ]
  },
  {
   "cell_type": "code",
   "execution_count": 55,
   "metadata": {
    "collapsed": false
   },
   "outputs": [
    {
     "data": {
      "text/html": [
       "<div>\n",
       "<table border=\"1\" class=\"dataframe\">\n",
       "  <thead>\n",
       "    <tr style=\"text-align: right;\">\n",
       "      <th>survived</th>\n",
       "      <th>0</th>\n",
       "      <th>1</th>\n",
       "    </tr>\n",
       "    <tr>\n",
       "      <th>title</th>\n",
       "      <th></th>\n",
       "      <th></th>\n",
       "    </tr>\n",
       "  </thead>\n",
       "  <tbody>\n",
       "    <tr>\n",
       "      <th>Lady.</th>\n",
       "      <td>0</td>\n",
       "      <td>1</td>\n",
       "    </tr>\n",
       "    <tr>\n",
       "      <th>Master.</th>\n",
       "      <td>30</td>\n",
       "      <td>31</td>\n",
       "    </tr>\n",
       "    <tr>\n",
       "      <th>Miss.</th>\n",
       "      <td>84</td>\n",
       "      <td>179</td>\n",
       "    </tr>\n",
       "    <tr>\n",
       "      <th>Mr.</th>\n",
       "      <td>635</td>\n",
       "      <td>123</td>\n",
       "    </tr>\n",
       "    <tr>\n",
       "      <th>Mrs.</th>\n",
       "      <td>42</td>\n",
       "      <td>157</td>\n",
       "    </tr>\n",
       "    <tr>\n",
       "      <th>Ms.</th>\n",
       "      <td>1</td>\n",
       "      <td>1</td>\n",
       "    </tr>\n",
       "    <tr>\n",
       "      <th>Sir.</th>\n",
       "      <td>17</td>\n",
       "      <td>8</td>\n",
       "    </tr>\n",
       "  </tbody>\n",
       "</table>\n",
       "</div>"
      ],
      "text/plain": [
       "survived    0    1\n",
       "title             \n",
       "Lady.       0    1\n",
       "Master.    30   31\n",
       "Miss.      84  179\n",
       "Mr.       635  123\n",
       "Mrs.       42  157\n",
       "Ms.         1    1\n",
       "Sir.       17    8"
      ]
     },
     "execution_count": 55,
     "metadata": {},
     "output_type": "execute_result"
    }
   ],
   "source": [
    "table = pd.crosstab(titanic['title'],titanic['survived'])\n",
    "table"
   ]
  },
  {
   "cell_type": "code",
   "execution_count": 56,
   "metadata": {
    "collapsed": false
   },
   "outputs": [
    {
     "data": {
      "text/plain": [
       "2.5001057472885931e-83"
      ]
     },
     "execution_count": 56,
     "metadata": {},
     "output_type": "execute_result"
    }
   ],
   "source": [
    "chi2, pvalue, dof, expected = chi2_contingency(table)\n",
    "pvalue"
   ]
  },
  {
   "cell_type": "code",
   "execution_count": 48,
   "metadata": {
    "collapsed": false,
    "scrolled": true
   },
   "outputs": [
    {
     "data": {
      "text/html": [
       "<div>\n",
       "<table border=\"1\" class=\"dataframe\">\n",
       "  <thead>\n",
       "    <tr style=\"text-align: right;\">\n",
       "      <th></th>\n",
       "      <th></th>\n",
       "      <th></th>\n",
       "      <th>deceased</th>\n",
       "      <th>survived</th>\n",
       "      <th>all</th>\n",
       "      <th>survival_rate</th>\n",
       "    </tr>\n",
       "    <tr>\n",
       "      <th>pclass</th>\n",
       "      <th>sex</th>\n",
       "      <th>embarked</th>\n",
       "      <th></th>\n",
       "      <th></th>\n",
       "      <th></th>\n",
       "      <th></th>\n",
       "    </tr>\n",
       "  </thead>\n",
       "  <tbody>\n",
       "    <tr>\n",
       "      <th rowspan=\"6\" valign=\"top\">1</th>\n",
       "      <th rowspan=\"3\" valign=\"top\">female</th>\n",
       "      <th>C</th>\n",
       "      <td>2</td>\n",
       "      <td>69</td>\n",
       "      <td>71</td>\n",
       "      <td>0.971831</td>\n",
       "    </tr>\n",
       "    <tr>\n",
       "      <th>Q</th>\n",
       "      <td>0</td>\n",
       "      <td>2</td>\n",
       "      <td>2</td>\n",
       "      <td>1.000000</td>\n",
       "    </tr>\n",
       "    <tr>\n",
       "      <th>S</th>\n",
       "      <td>3</td>\n",
       "      <td>66</td>\n",
       "      <td>69</td>\n",
       "      <td>0.956522</td>\n",
       "    </tr>\n",
       "    <tr>\n",
       "      <th rowspan=\"3\" valign=\"top\">male</th>\n",
       "      <th>C</th>\n",
       "      <td>42</td>\n",
       "      <td>28</td>\n",
       "      <td>70</td>\n",
       "      <td>0.400000</td>\n",
       "    </tr>\n",
       "    <tr>\n",
       "      <th>Q</th>\n",
       "      <td>1</td>\n",
       "      <td>0</td>\n",
       "      <td>1</td>\n",
       "      <td>0.000000</td>\n",
       "    </tr>\n",
       "    <tr>\n",
       "      <th>S</th>\n",
       "      <td>75</td>\n",
       "      <td>33</td>\n",
       "      <td>108</td>\n",
       "      <td>0.305556</td>\n",
       "    </tr>\n",
       "    <tr>\n",
       "      <th rowspan=\"6\" valign=\"top\">2</th>\n",
       "      <th rowspan=\"3\" valign=\"top\">female</th>\n",
       "      <th>C</th>\n",
       "      <td>0</td>\n",
       "      <td>11</td>\n",
       "      <td>11</td>\n",
       "      <td>1.000000</td>\n",
       "    </tr>\n",
       "    <tr>\n",
       "      <th>Q</th>\n",
       "      <td>0</td>\n",
       "      <td>2</td>\n",
       "      <td>2</td>\n",
       "      <td>1.000000</td>\n",
       "    </tr>\n",
       "    <tr>\n",
       "      <th>S</th>\n",
       "      <td>12</td>\n",
       "      <td>81</td>\n",
       "      <td>93</td>\n",
       "      <td>0.870968</td>\n",
       "    </tr>\n",
       "    <tr>\n",
       "      <th rowspan=\"3\" valign=\"top\">male</th>\n",
       "      <th>C</th>\n",
       "      <td>12</td>\n",
       "      <td>5</td>\n",
       "      <td>17</td>\n",
       "      <td>0.294118</td>\n",
       "    </tr>\n",
       "    <tr>\n",
       "      <th>Q</th>\n",
       "      <td>5</td>\n",
       "      <td>0</td>\n",
       "      <td>5</td>\n",
       "      <td>0.000000</td>\n",
       "    </tr>\n",
       "    <tr>\n",
       "      <th>S</th>\n",
       "      <td>129</td>\n",
       "      <td>20</td>\n",
       "      <td>149</td>\n",
       "      <td>0.134228</td>\n",
       "    </tr>\n",
       "    <tr>\n",
       "      <th rowspan=\"6\" valign=\"top\">3</th>\n",
       "      <th rowspan=\"3\" valign=\"top\">female</th>\n",
       "      <th>C</th>\n",
       "      <td>9</td>\n",
       "      <td>22</td>\n",
       "      <td>31</td>\n",
       "      <td>0.709677</td>\n",
       "    </tr>\n",
       "    <tr>\n",
       "      <th>Q</th>\n",
       "      <td>23</td>\n",
       "      <td>33</td>\n",
       "      <td>56</td>\n",
       "      <td>0.589286</td>\n",
       "    </tr>\n",
       "    <tr>\n",
       "      <th>S</th>\n",
       "      <td>78</td>\n",
       "      <td>51</td>\n",
       "      <td>129</td>\n",
       "      <td>0.395349</td>\n",
       "    </tr>\n",
       "    <tr>\n",
       "      <th rowspan=\"3\" valign=\"top\">male</th>\n",
       "      <th>C</th>\n",
       "      <td>55</td>\n",
       "      <td>15</td>\n",
       "      <td>70</td>\n",
       "      <td>0.214286</td>\n",
       "    </tr>\n",
       "    <tr>\n",
       "      <th>Q</th>\n",
       "      <td>50</td>\n",
       "      <td>7</td>\n",
       "      <td>57</td>\n",
       "      <td>0.122807</td>\n",
       "    </tr>\n",
       "    <tr>\n",
       "      <th>S</th>\n",
       "      <td>313</td>\n",
       "      <td>53</td>\n",
       "      <td>366</td>\n",
       "      <td>0.144809</td>\n",
       "    </tr>\n",
       "  </tbody>\n",
       "</table>\n",
       "</div>"
      ],
      "text/plain": [
       "                        deceased  survived  all  survival_rate\n",
       "pclass sex    embarked                                        \n",
       "1      female C                2        69   71       0.971831\n",
       "              Q                0         2    2       1.000000\n",
       "              S                3        66   69       0.956522\n",
       "       male   C               42        28   70       0.400000\n",
       "              Q                1         0    1       0.000000\n",
       "              S               75        33  108       0.305556\n",
       "2      female C                0        11   11       1.000000\n",
       "              Q                0         2    2       1.000000\n",
       "              S               12        81   93       0.870968\n",
       "       male   C               12         5   17       0.294118\n",
       "              Q                5         0    5       0.000000\n",
       "              S              129        20  149       0.134228\n",
       "3      female C                9        22   31       0.709677\n",
       "              Q               23        33   56       0.589286\n",
       "              S               78        51  129       0.395349\n",
       "       male   C               55        15   70       0.214286\n",
       "              Q               50         7   57       0.122807\n",
       "              S              313        53  366       0.144809"
      ]
     },
     "execution_count": 48,
     "metadata": {},
     "output_type": "execute_result"
    }
   ],
   "source": [
    "titanic.groupby(['pclass','sex','embarked']).agg(OrderedDict([('deceased', 'sum'),\n",
    "                                                              ('survived', 'sum'),\n",
    "                                                              ('all', 'sum'),\n",
    "                                                              ('survival_rate', 'mean')]))"
   ]
  },
  {
   "cell_type": "markdown",
   "metadata": {},
   "source": [
    "#### Are there any groups that outperformed the survival of the latter group? (justify your response numerically)\n"
   ]
  },
  {
   "cell_type": "markdown",
   "metadata": {
    "collapsed": true
   },
   "source": [
    "first class female with ~ 0.97 survival_rate"
   ]
  },
  {
   "cell_type": "markdown",
   "metadata": {
    "collapsed": true
   },
   "source": [
    "## Part 5:  Comparative Statistics:  Lusitania"
   ]
  },
  {
   "cell_type": "markdown",
   "metadata": {
    "collapsed": true
   },
   "source": [
    "#### Are there any groups that were especially adversely affected in the Titanic wreck? (justify your response numerically)"
   ]
  },
  {
   "cell_type": "markdown",
   "metadata": {},
   "source": [
    "Stowaway and lower class British Seaman passengers with 0 survival rate \n",
    "lower class male passenger, female crew victualling, and male crew engineering with ~0.36 survival rate"
   ]
  },
  {
   "cell_type": "code",
   "execution_count": 58,
   "metadata": {
    "collapsed": true
   },
   "outputs": [],
   "source": [
    "lusit['Lost'] = lusit['Fate'].apply(lambda x: 1 if x == 'Lost' else 0)\n",
    "lusit['Not on board'] = lusit['Fate'].apply(lambda x: 1 if x == 'Not on board' else np.nan)\n",
    "lusit['Saved'] = lusit['Fate'].apply(lambda x: 1 if x == 'Saved' else 0)\n",
    "lusit['Saved (died from trauma)'] = lusit['Fate'].apply(lambda x: 1 if x == 'Saved (died from trauma)' else np.nan)\n",
    "lusit['All'] = lusit['Value']\n",
    "lusit['Survival Rate'] = (lusit['All']-lusit['Lost'])/lusit['All']"
   ]
  },
  {
   "cell_type": "code",
   "execution_count": 59,
   "metadata": {
    "collapsed": false
   },
   "outputs": [
    {
     "data": {
      "text/html": [
       "<div>\n",
       "<table border=\"1\" class=\"dataframe\">\n",
       "  <thead>\n",
       "    <tr style=\"text-align: right;\">\n",
       "      <th></th>\n",
       "      <th></th>\n",
       "      <th></th>\n",
       "      <th>Lost</th>\n",
       "      <th>Not on board</th>\n",
       "      <th>Saved</th>\n",
       "      <th>Saved (died from trauma)</th>\n",
       "      <th>All</th>\n",
       "      <th>Survival Rate</th>\n",
       "    </tr>\n",
       "    <tr>\n",
       "      <th>Sex</th>\n",
       "      <th>Passenger/Crew</th>\n",
       "      <th>Department/Class</th>\n",
       "      <th></th>\n",
       "      <th></th>\n",
       "      <th></th>\n",
       "      <th></th>\n",
       "      <th></th>\n",
       "      <th></th>\n",
       "    </tr>\n",
       "  </thead>\n",
       "  <tbody>\n",
       "    <tr>\n",
       "      <th rowspan=\"4\" valign=\"top\">Female</th>\n",
       "      <th>Crew</th>\n",
       "      <th>Victualling</th>\n",
       "      <td>16</td>\n",
       "      <td>NaN</td>\n",
       "      <td>9</td>\n",
       "      <td>NaN</td>\n",
       "      <td>25</td>\n",
       "      <td>0.360000</td>\n",
       "    </tr>\n",
       "    <tr>\n",
       "      <th rowspan=\"3\" valign=\"top\">Passenger</th>\n",
       "      <th>Saloon</th>\n",
       "      <td>56</td>\n",
       "      <td>1.0</td>\n",
       "      <td>34</td>\n",
       "      <td>NaN</td>\n",
       "      <td>91</td>\n",
       "      <td>0.377778</td>\n",
       "    </tr>\n",
       "    <tr>\n",
       "      <th>Second</th>\n",
       "      <td>185</td>\n",
       "      <td>NaN</td>\n",
       "      <td>108</td>\n",
       "      <td>1.0</td>\n",
       "      <td>294</td>\n",
       "      <td>0.370748</td>\n",
       "    </tr>\n",
       "    <tr>\n",
       "      <th>Third</th>\n",
       "      <td>68</td>\n",
       "      <td>NaN</td>\n",
       "      <td>40</td>\n",
       "      <td>NaN</td>\n",
       "      <td>108</td>\n",
       "      <td>0.370370</td>\n",
       "    </tr>\n",
       "    <tr>\n",
       "      <th rowspan=\"9\" valign=\"top\">Male</th>\n",
       "      <th rowspan=\"4\" valign=\"top\">Crew</th>\n",
       "      <th>Band</th>\n",
       "      <td>2</td>\n",
       "      <td>NaN</td>\n",
       "      <td>3</td>\n",
       "      <td>NaN</td>\n",
       "      <td>5</td>\n",
       "      <td>0.600000</td>\n",
       "    </tr>\n",
       "    <tr>\n",
       "      <th>Deck</th>\n",
       "      <td>32</td>\n",
       "      <td>NaN</td>\n",
       "      <td>37</td>\n",
       "      <td>NaN</td>\n",
       "      <td>69</td>\n",
       "      <td>0.536232</td>\n",
       "    </tr>\n",
       "    <tr>\n",
       "      <th>Engineering</th>\n",
       "      <td>201</td>\n",
       "      <td>NaN</td>\n",
       "      <td>112</td>\n",
       "      <td>NaN</td>\n",
       "      <td>313</td>\n",
       "      <td>0.357827</td>\n",
       "    </tr>\n",
       "    <tr>\n",
       "      <th>Victualling</th>\n",
       "      <td>151</td>\n",
       "      <td>NaN</td>\n",
       "      <td>129</td>\n",
       "      <td>1.0</td>\n",
       "      <td>281</td>\n",
       "      <td>0.462633</td>\n",
       "    </tr>\n",
       "    <tr>\n",
       "      <th rowspan=\"4\" valign=\"top\">Passenger</th>\n",
       "      <th>Saloon</th>\n",
       "      <td>121</td>\n",
       "      <td>NaN</td>\n",
       "      <td>78</td>\n",
       "      <td>1.0</td>\n",
       "      <td>200</td>\n",
       "      <td>0.395000</td>\n",
       "    </tr>\n",
       "    <tr>\n",
       "      <th>Second</th>\n",
       "      <td>187</td>\n",
       "      <td>NaN</td>\n",
       "      <td>119</td>\n",
       "      <td>1.0</td>\n",
       "      <td>307</td>\n",
       "      <td>0.390879</td>\n",
       "    </tr>\n",
       "    <tr>\n",
       "      <th>Third</th>\n",
       "      <td>168</td>\n",
       "      <td>NaN</td>\n",
       "      <td>94</td>\n",
       "      <td>NaN</td>\n",
       "      <td>262</td>\n",
       "      <td>0.358779</td>\n",
       "    </tr>\n",
       "    <tr>\n",
       "      <th>Third (Distressed British Seaman)</th>\n",
       "      <td>3</td>\n",
       "      <td>NaN</td>\n",
       "      <td>0</td>\n",
       "      <td>NaN</td>\n",
       "      <td>3</td>\n",
       "      <td>0.000000</td>\n",
       "    </tr>\n",
       "    <tr>\n",
       "      <th>Stowaway</th>\n",
       "      <th>Stowaway</th>\n",
       "      <td>3</td>\n",
       "      <td>NaN</td>\n",
       "      <td>0</td>\n",
       "      <td>NaN</td>\n",
       "      <td>3</td>\n",
       "      <td>0.000000</td>\n",
       "    </tr>\n",
       "  </tbody>\n",
       "</table>\n",
       "</div>"
      ],
      "text/plain": [
       "                                                         Lost  Not on board  \\\n",
       "Sex    Passenger/Crew Department/Class                                        \n",
       "Female Crew           Victualling                          16           NaN   \n",
       "       Passenger      Saloon                               56           1.0   \n",
       "                      Second                              185           NaN   \n",
       "                      Third                                68           NaN   \n",
       "Male   Crew           Band                                  2           NaN   \n",
       "                      Deck                                 32           NaN   \n",
       "                      Engineering                         201           NaN   \n",
       "                      Victualling                         151           NaN   \n",
       "       Passenger      Saloon                              121           NaN   \n",
       "                      Second                              187           NaN   \n",
       "                      Third                               168           NaN   \n",
       "                      Third (Distressed British Seaman)     3           NaN   \n",
       "       Stowaway       Stowaway                              3           NaN   \n",
       "\n",
       "                                                         Saved  \\\n",
       "Sex    Passenger/Crew Department/Class                           \n",
       "Female Crew           Victualling                            9   \n",
       "       Passenger      Saloon                                34   \n",
       "                      Second                               108   \n",
       "                      Third                                 40   \n",
       "Male   Crew           Band                                   3   \n",
       "                      Deck                                  37   \n",
       "                      Engineering                          112   \n",
       "                      Victualling                          129   \n",
       "       Passenger      Saloon                                78   \n",
       "                      Second                               119   \n",
       "                      Third                                 94   \n",
       "                      Third (Distressed British Seaman)      0   \n",
       "       Stowaway       Stowaway                               0   \n",
       "\n",
       "                                                         Saved (died from trauma)  \\\n",
       "Sex    Passenger/Crew Department/Class                                              \n",
       "Female Crew           Victualling                                             NaN   \n",
       "       Passenger      Saloon                                                  NaN   \n",
       "                      Second                                                  1.0   \n",
       "                      Third                                                   NaN   \n",
       "Male   Crew           Band                                                    NaN   \n",
       "                      Deck                                                    NaN   \n",
       "                      Engineering                                             NaN   \n",
       "                      Victualling                                             1.0   \n",
       "       Passenger      Saloon                                                  1.0   \n",
       "                      Second                                                  1.0   \n",
       "                      Third                                                   NaN   \n",
       "                      Third (Distressed British Seaman)                       NaN   \n",
       "       Stowaway       Stowaway                                                NaN   \n",
       "\n",
       "                                                         All  Survival Rate  \n",
       "Sex    Passenger/Crew Department/Class                                       \n",
       "Female Crew           Victualling                         25       0.360000  \n",
       "       Passenger      Saloon                              91       0.377778  \n",
       "                      Second                             294       0.370748  \n",
       "                      Third                              108       0.370370  \n",
       "Male   Crew           Band                                 5       0.600000  \n",
       "                      Deck                                69       0.536232  \n",
       "                      Engineering                        313       0.357827  \n",
       "                      Victualling                        281       0.462633  \n",
       "       Passenger      Saloon                             200       0.395000  \n",
       "                      Second                             307       0.390879  \n",
       "                      Third                              262       0.358779  \n",
       "                      Third (Distressed British Seaman)    3       0.000000  \n",
       "       Stowaway       Stowaway                             3       0.000000  "
      ]
     },
     "execution_count": 59,
     "metadata": {},
     "output_type": "execute_result"
    }
   ],
   "source": [
    "lusit.groupby(['Sex','Passenger/Crew','Department/Class']).agg(OrderedDict([('Lost', 'sum'),\n",
    "                                                                            ('Not on board', 'sum'),\n",
    "                                                                            ('Saved', 'sum'),\n",
    "                                                                            ('Saved (died from trauma)', 'sum'),\n",
    "                                                                            ('All', 'count'),\n",
    "                                                                            ('Survival Rate', 'mean')\n",
    "                                                              ]))"
   ]
  },
  {
   "cell_type": "code",
   "execution_count": 64,
   "metadata": {
    "collapsed": false,
    "scrolled": true
   },
   "outputs": [
    {
     "data": {
      "text/html": [
       "<div>\n",
       "<table border=\"1\" class=\"dataframe\">\n",
       "  <thead>\n",
       "    <tr style=\"text-align: right;\">\n",
       "      <th>Saved</th>\n",
       "      <th>0</th>\n",
       "      <th>1</th>\n",
       "    </tr>\n",
       "    <tr>\n",
       "      <th>Sex</th>\n",
       "      <th></th>\n",
       "      <th></th>\n",
       "    </tr>\n",
       "  </thead>\n",
       "  <tbody>\n",
       "    <tr>\n",
       "      <th>Female</th>\n",
       "      <td>327</td>\n",
       "      <td>191</td>\n",
       "    </tr>\n",
       "    <tr>\n",
       "      <th>Male</th>\n",
       "      <td>871</td>\n",
       "      <td>572</td>\n",
       "    </tr>\n",
       "  </tbody>\n",
       "</table>\n",
       "</div>"
      ],
      "text/plain": [
       "Saved     0    1\n",
       "Sex             \n",
       "Female  327  191\n",
       "Male    871  572"
      ]
     },
     "execution_count": 64,
     "metadata": {},
     "output_type": "execute_result"
    }
   ],
   "source": [
    "table = pd.crosstab(lusit['Sex'],lusit['Saved'])\n",
    "table"
   ]
  },
  {
   "cell_type": "code",
   "execution_count": 65,
   "metadata": {
    "collapsed": false
   },
   "outputs": [
    {
     "data": {
      "text/plain": [
       "0.29118207614691405"
      ]
     },
     "execution_count": 65,
     "metadata": {},
     "output_type": "execute_result"
    }
   ],
   "source": [
    "chi2, pvalue, dof, expected = chi2_contingency(table)\n",
    "pvalue"
   ]
  },
  {
   "cell_type": "code",
   "execution_count": 66,
   "metadata": {
    "collapsed": false
   },
   "outputs": [
    {
     "data": {
      "text/html": [
       "<div>\n",
       "<table border=\"1\" class=\"dataframe\">\n",
       "  <thead>\n",
       "    <tr style=\"text-align: right;\">\n",
       "      <th>Saved</th>\n",
       "      <th>0</th>\n",
       "      <th>1</th>\n",
       "    </tr>\n",
       "    <tr>\n",
       "      <th>Title</th>\n",
       "      <th></th>\n",
       "      <th></th>\n",
       "    </tr>\n",
       "  </thead>\n",
       "  <tbody>\n",
       "    <tr>\n",
       "      <th>Lady</th>\n",
       "      <td>1</td>\n",
       "      <td>2</td>\n",
       "    </tr>\n",
       "    <tr>\n",
       "      <th>Master</th>\n",
       "      <td>65</td>\n",
       "      <td>35</td>\n",
       "    </tr>\n",
       "    <tr>\n",
       "      <th>Miss</th>\n",
       "      <td>154</td>\n",
       "      <td>84</td>\n",
       "    </tr>\n",
       "    <tr>\n",
       "      <th>Mr.</th>\n",
       "      <td>650</td>\n",
       "      <td>407</td>\n",
       "    </tr>\n",
       "    <tr>\n",
       "      <th>Mrs.</th>\n",
       "      <td>172</td>\n",
       "      <td>105</td>\n",
       "    </tr>\n",
       "    <tr>\n",
       "      <th>Sir</th>\n",
       "      <td>156</td>\n",
       "      <td>130</td>\n",
       "    </tr>\n",
       "  </tbody>\n",
       "</table>\n",
       "</div>"
      ],
      "text/plain": [
       "Saved     0    1\n",
       "Title           \n",
       "Lady      1    2\n",
       "Master   65   35\n",
       "Miss    154   84\n",
       "Mr.     650  407\n",
       "Mrs.    172  105\n",
       "Sir     156  130"
      ]
     },
     "execution_count": 66,
     "metadata": {},
     "output_type": "execute_result"
    }
   ],
   "source": [
    "table = pd.crosstab(lusit['Title'],lusit['Saved'])\n",
    "table"
   ]
  },
  {
   "cell_type": "code",
   "execution_count": 67,
   "metadata": {
    "collapsed": false
   },
   "outputs": [
    {
     "data": {
      "text/plain": [
       "0.14204988295663026"
      ]
     },
     "execution_count": 67,
     "metadata": {},
     "output_type": "execute_result"
    }
   ],
   "source": [
    "chi2, pvalue, dof, expected = chi2_contingency(table)\n",
    "pvalue"
   ]
  },
  {
   "cell_type": "markdown",
   "metadata": {
    "collapsed": true
   },
   "source": [
    "#### Are there any groups that outperformed the survival of the latter group? (justify your response numerically)\n",
    "\n"
   ]
  },
  {
   "cell_type": "markdown",
   "metadata": {
    "collapsed": true
   },
   "source": [
    "male crew band with ~0.60 survival rate and male crew deck with ~0.54 survival rate"
   ]
  },
  {
   "cell_type": "code",
   "execution_count": null,
   "metadata": {
    "collapsed": false
   },
   "outputs": [],
   "source": [
    "lusit.groupby(['Adult/Minor']).agg(OrderedDict([('Lost', 'sum'),\n",
    "                                                                            ('Not on board', 'sum'),\n",
    "                                                                            ('Saved', 'sum'),\n",
    "                                                                            ('Saved (died from trauma)', 'sum'),\n",
    "                                                                            ('All', 'count'),\n",
    "                                                                            ('Survival Rate', 'mean')\n",
    "                                                              ]))"
   ]
  },
  {
   "cell_type": "markdown",
   "metadata": {},
   "source": [
    "#### What does the group-wise survival rate imply about circumstances during these two accidents?"
   ]
  },
  {
   "cell_type": "markdown",
   "metadata": {},
   "source": [
    "The results imply that in the Lusitania accident women and children where not considered; Survival rate of the crew in Lusitania much higher than it's passengers. Where as most of the survivors from Titanic were women and children."
   ]
  }
 ],
 "metadata": {
  "anaconda-cloud": {},
  "kernelspec": {
   "display_name": "Python [conda root]",
   "language": "python",
   "name": "conda-root-py"
  },
  "language_info": {
   "codemirror_mode": {
    "name": "ipython",
    "version": 2
   },
   "file_extension": ".py",
   "mimetype": "text/x-python",
   "name": "python",
   "nbconvert_exporter": "python",
   "pygments_lexer": "ipython2",
   "version": "2.7.12"
  }
 },
 "nbformat": 4,
 "nbformat_minor": 0
}
